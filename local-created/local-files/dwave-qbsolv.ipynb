{
 "cells": [
  {
   "cell_type": "code",
   "execution_count": 7,
   "metadata": {
    "collapsed": true,
    "pycharm": {
     "is_executing": false
    }
   },
   "outputs": [],
   "source": [
    "import dwave_qbsolv as qbs\n",
    "import qdk\n",
    "import oneqloud_polynomials\n",
    "from qdk.binary_polynomial import QuadraticBinaryPolynomialBuilder\n",
    "from qdk.common_solver_interface import Tabu1OptSolver\n",
    "# \n",
    "# Create a quadratic polynomial x_0 - 2 * x_1 + 0.5 x_1 * x_3\n",
    "builder = QuadraticBinaryPolynomialBuilder()\n",
    "builder.add_term(1.0, 0, 0)\n",
    "builder.add_term(-2.0, 1, 1)\n",
    "builder.add_term(0.5, 1, 3)"
   ]
  },
  {
   "cell_type": "code",
   "execution_count": 8,
   "metadata": {
    "pycharm": {
     "is_executing": false
    }
   },
   "outputs": [],
   "source": [
    "# # Build a quadratic polynomial\n",
    "quad_poly = builder.build_polynomial()\n",
    "# \n",
    "# # Create solver\n",
    "tabu_solver = Tabu1OptSolver()\n",
    "# \n",
    "# # Run the solver\n",
    "binary_solution_list = tabu_solver.minimize(quad_poly)\n",
    "# \n",
    "# # Get best solution\n",
    "print('minimum energy: ',\\\n",
    "    binary_solution_list.peek_minimum_energy_solution().energy)"
   ]
  },
  {
   "cell_type": "code",
   "execution_count": 9,
   "metadata": {
    "pycharm": {
     "is_executing": false
    }
   },
   "outputs": [],
   "source": [
    "# quadratic unconstrained binary optimization\n",
    "import dimod\n",
    "bqm = dimod.BinaryQuadraticModel({0: -1, 1: -1}, {(0, 1): 2}, 0.0, dimod.BINARY)  # QUBO\n",
    "bqm_ising = bqm.change_vartype(dimod.SPIN, inplace=False)  # Ising"
   ]
  },
  {
   "cell_type": "code",
   "execution_count": 10,
   "metadata": {
    "pycharm": {
     "is_executing": false
    }
   },
   "outputs": [
    {
     "traceback": [
      "\u001b[0;31m---------------------------------------------------------------------------\u001b[0m",
      "\u001b[0;31mAttributeError\u001b[0m                            Traceback (most recent call last)",
      "\u001b[0;32m<ipython-input-10-5a6fa888c780>\u001b[0m in \u001b[0;36m<module>\u001b[0;34m\u001b[0m\n\u001b[1;32m      3\u001b[0m \u001b[0mbqm\u001b[0m \u001b[0;34m=\u001b[0m \u001b[0mdimod\u001b[0m\u001b[0;34m.\u001b[0m\u001b[0mBinaryQuadraticModel\u001b[0m\u001b[0;34m.\u001b[0m\u001b[0mfrom_ising\u001b[0m\u001b[0;34m(\u001b[0m\u001b[0mh\u001b[0m\u001b[0;34m,\u001b[0m \u001b[0mJ\u001b[0m\u001b[0;34m)\u001b[0m\u001b[0;34m\u001b[0m\u001b[0;34m\u001b[0m\u001b[0m\n\u001b[1;32m      4\u001b[0m \u001b[0mresponse\u001b[0m \u001b[0;34m=\u001b[0m \u001b[0mdimod\u001b[0m\u001b[0;34m.\u001b[0m\u001b[0mExactSolver\u001b[0m\u001b[0;34m(\u001b[0m\u001b[0;34m)\u001b[0m\u001b[0;34m.\u001b[0m\u001b[0msample\u001b[0m\u001b[0;34m(\u001b[0m\u001b[0mbqm\u001b[0m\u001b[0;34m)\u001b[0m\u001b[0;34m\u001b[0m\u001b[0;34m\u001b[0m\u001b[0m\n\u001b[0;32m----> 5\u001b[0;31m \u001b[0mresponse\u001b[0m\u001b[0;34m.\u001b[0m\u001b[0msamples_matrix\u001b[0m\u001b[0;34m\u001b[0m\u001b[0;34m\u001b[0m\u001b[0m\n\u001b[0m\u001b[1;32m      6\u001b[0m \u001b[0;34m\u001b[0m\u001b[0m\n",
      "\u001b[0;31mAttributeError\u001b[0m: 'SampleSet' object has no attribute 'samples_matrix'"
     ],
     "ename": "AttributeError",
     "evalue": "'SampleSet' object has no attribute 'samples_matrix'",
     "output_type": "error"
    }
   ],
   "source": [
    "h = {0: 0.0, 1: 0.0}\n",
    "J = {(0, 1): -1.0}\n",
    "bqm = dimod.BinaryQuadraticModel.from_ising(h, J)\n",
    "response = dimod.ExactSolver().sample(bqm)\n",
    "response.samples_matrix"
   ]
  },
  {
   "cell_type": "code",
   "execution_count": 11,
   "metadata": {
    "pycharm": {
     "is_executing": false
    }
   },
   "outputs": [],
   "source": [
    "import dwave_qbsolv as qbs"
   ]
  },
  {
   "cell_type": "code",
   "execution_count": 12,
   "metadata": {
    "pycharm": {
     "is_executing": false
    }
   },
   "outputs": [
    {
     "traceback": [
      "\u001b[0;31m---------------------------------------------------------------------------\u001b[0m",
      "\u001b[0;31mTypeError\u001b[0m                                 Traceback (most recent call last)",
      "\u001b[0;32m<ipython-input-12-1fec76e0ed57>\u001b[0m in \u001b[0;36m<module>\u001b[0;34m\u001b[0m\n\u001b[1;32m      4\u001b[0m \u001b[0mbqm\u001b[0m \u001b[0;34m=\u001b[0m \u001b[0mdimod\u001b[0m\u001b[0;34m.\u001b[0m\u001b[0mBinaryQuadraticModel\u001b[0m\u001b[0;34m(\u001b[0m\u001b[0;34m{\u001b[0m\u001b[0;36m0\u001b[0m\u001b[0;34m:\u001b[0m \u001b[0;34m-\u001b[0m\u001b[0;36m1\u001b[0m\u001b[0;34m,\u001b[0m \u001b[0;36m1\u001b[0m\u001b[0;34m:\u001b[0m \u001b[0;34m-\u001b[0m\u001b[0;36m1\u001b[0m\u001b[0;34m}\u001b[0m\u001b[0;34m,\u001b[0m \u001b[0;34m{\u001b[0m\u001b[0;34m(\u001b[0m\u001b[0;36m0\u001b[0m\u001b[0;34m,\u001b[0m \u001b[0;36m1\u001b[0m\u001b[0;34m)\u001b[0m\u001b[0;34m:\u001b[0m \u001b[0;36m2\u001b[0m\u001b[0;34m}\u001b[0m\u001b[0;34m,\u001b[0m \u001b[0;36m0.0\u001b[0m\u001b[0;34m,\u001b[0m \u001b[0mdimod\u001b[0m\u001b[0;34m.\u001b[0m\u001b[0mBINARY\u001b[0m\u001b[0;34m)\u001b[0m  \u001b[0;31m# QUBO\u001b[0m\u001b[0;34m\u001b[0m\u001b[0;34m\u001b[0m\u001b[0m\n\u001b[1;32m      5\u001b[0m \u001b[0;31m# 4 required positional arguments: 'linear', 'quadratic', 'offset' and 'vartype'\u001b[0m\u001b[0;34m\u001b[0m\u001b[0;34m\u001b[0m\u001b[0;34m\u001b[0m\u001b[0m\n\u001b[0;32m----> 6\u001b[0;31m \u001b[0mbqm\u001b[0m \u001b[0;34m=\u001b[0m \u001b[0mdimod\u001b[0m\u001b[0;34m.\u001b[0m\u001b[0mBinaryQuadraticModel\u001b[0m\u001b[0;34m(\u001b[0m\u001b[0;34m)\u001b[0m\u001b[0;34m\u001b[0m\u001b[0;34m\u001b[0m\u001b[0m\n\u001b[0m\u001b[1;32m      7\u001b[0m \u001b[0;34m\u001b[0m\u001b[0m\n",
      "\u001b[0;32m/Volumes/LaCie/miniconda3/anaconda3/envs/workings/lib/python3.7/site-packages/dimod/decorators.py\u001b[0m in \u001b[0;36mnew_f\u001b[0;34m(*args, **kwargs)\u001b[0m\n\u001b[1;32m    244\u001b[0m             \u001b[0;31m# (note: if call arguments don't match actual function signature,\u001b[0m\u001b[0;34m\u001b[0m\u001b[0;34m\u001b[0m\u001b[0;34m\u001b[0m\u001b[0m\n\u001b[1;32m    245\u001b[0m             \u001b[0;31m# we'll fail here with the standard `TypeError`)\u001b[0m\u001b[0;34m\u001b[0m\u001b[0;34m\u001b[0m\u001b[0;34m\u001b[0m\u001b[0m\n\u001b[0;32m--> 246\u001b[0;31m             \u001b[0mbound_args\u001b[0m \u001b[0;34m=\u001b[0m \u001b[0minspect\u001b[0m\u001b[0;34m.\u001b[0m\u001b[0mgetcallargs\u001b[0m\u001b[0;34m(\u001b[0m\u001b[0mf\u001b[0m\u001b[0;34m,\u001b[0m \u001b[0;34m*\u001b[0m\u001b[0margs\u001b[0m\u001b[0;34m,\u001b[0m \u001b[0;34m**\u001b[0m\u001b[0mkwargs\u001b[0m\u001b[0;34m)\u001b[0m\u001b[0;34m\u001b[0m\u001b[0;34m\u001b[0m\u001b[0m\n\u001b[0m\u001b[1;32m    247\u001b[0m \u001b[0;34m\u001b[0m\u001b[0m\n\u001b[1;32m    248\u001b[0m             \u001b[0;31m# `getcallargs` doesn't merge additional positional/keyword arguments,\u001b[0m\u001b[0;34m\u001b[0m\u001b[0;34m\u001b[0m\u001b[0;34m\u001b[0m\u001b[0m\n",
      "\u001b[0;32m/Volumes/LaCie/miniconda3/anaconda3/envs/workings/lib/python3.7/inspect.py\u001b[0m in \u001b[0;36mgetcallargs\u001b[0;34m(*func_and_positional, **named)\u001b[0m\n\u001b[1;32m   1370\u001b[0m         \u001b[0;32mfor\u001b[0m \u001b[0marg\u001b[0m \u001b[0;32min\u001b[0m \u001b[0mreq\u001b[0m\u001b[0;34m:\u001b[0m\u001b[0;34m\u001b[0m\u001b[0;34m\u001b[0m\u001b[0m\n\u001b[1;32m   1371\u001b[0m             \u001b[0;32mif\u001b[0m \u001b[0marg\u001b[0m \u001b[0;32mnot\u001b[0m \u001b[0;32min\u001b[0m \u001b[0marg2value\u001b[0m\u001b[0;34m:\u001b[0m\u001b[0;34m\u001b[0m\u001b[0;34m\u001b[0m\u001b[0m\n\u001b[0;32m-> 1372\u001b[0;31m                 \u001b[0m_missing_arguments\u001b[0m\u001b[0;34m(\u001b[0m\u001b[0mf_name\u001b[0m\u001b[0;34m,\u001b[0m \u001b[0mreq\u001b[0m\u001b[0;34m,\u001b[0m \u001b[0;32mTrue\u001b[0m\u001b[0;34m,\u001b[0m \u001b[0marg2value\u001b[0m\u001b[0;34m)\u001b[0m\u001b[0;34m\u001b[0m\u001b[0;34m\u001b[0m\u001b[0m\n\u001b[0m\u001b[1;32m   1373\u001b[0m         \u001b[0;32mfor\u001b[0m \u001b[0mi\u001b[0m\u001b[0;34m,\u001b[0m \u001b[0marg\u001b[0m \u001b[0;32min\u001b[0m \u001b[0menumerate\u001b[0m\u001b[0;34m(\u001b[0m\u001b[0margs\u001b[0m\u001b[0;34m[\u001b[0m\u001b[0mnum_args\u001b[0m \u001b[0;34m-\u001b[0m \u001b[0mnum_defaults\u001b[0m\u001b[0;34m:\u001b[0m\u001b[0;34m]\u001b[0m\u001b[0;34m)\u001b[0m\u001b[0;34m:\u001b[0m\u001b[0;34m\u001b[0m\u001b[0;34m\u001b[0m\u001b[0m\n\u001b[1;32m   1374\u001b[0m             \u001b[0;32mif\u001b[0m \u001b[0marg\u001b[0m \u001b[0;32mnot\u001b[0m \u001b[0;32min\u001b[0m \u001b[0marg2value\u001b[0m\u001b[0;34m:\u001b[0m\u001b[0;34m\u001b[0m\u001b[0;34m\u001b[0m\u001b[0m\n",
      "\u001b[0;32m/Volumes/LaCie/miniconda3/anaconda3/envs/workings/lib/python3.7/inspect.py\u001b[0m in \u001b[0;36m_missing_arguments\u001b[0;34m(f_name, argnames, pos, values)\u001b[0m\n\u001b[1;32m   1300\u001b[0m                     (f_name, missing,\n\u001b[1;32m   1301\u001b[0m                       \u001b[0;34m\"positional\"\u001b[0m \u001b[0;32mif\u001b[0m \u001b[0mpos\u001b[0m \u001b[0;32melse\u001b[0m \u001b[0;34m\"keyword-only\"\u001b[0m\u001b[0;34m,\u001b[0m\u001b[0;34m\u001b[0m\u001b[0;34m\u001b[0m\u001b[0m\n\u001b[0;32m-> 1302\u001b[0;31m                       \"\" if missing == 1 else \"s\", s))\n\u001b[0m\u001b[1;32m   1303\u001b[0m \u001b[0;34m\u001b[0m\u001b[0m\n\u001b[1;32m   1304\u001b[0m \u001b[0;32mdef\u001b[0m \u001b[0m_too_many\u001b[0m\u001b[0;34m(\u001b[0m\u001b[0mf_name\u001b[0m\u001b[0;34m,\u001b[0m \u001b[0margs\u001b[0m\u001b[0;34m,\u001b[0m \u001b[0mkwonly\u001b[0m\u001b[0;34m,\u001b[0m \u001b[0mvarargs\u001b[0m\u001b[0;34m,\u001b[0m \u001b[0mdefcount\u001b[0m\u001b[0;34m,\u001b[0m \u001b[0mgiven\u001b[0m\u001b[0;34m,\u001b[0m \u001b[0mvalues\u001b[0m\u001b[0;34m)\u001b[0m\u001b[0;34m:\u001b[0m\u001b[0;34m\u001b[0m\u001b[0;34m\u001b[0m\u001b[0m\n",
      "\u001b[0;31mTypeError\u001b[0m: __init__() missing 4 required positional arguments: 'linear', 'quadratic', 'offset' and 'vartype'"
     ],
     "ename": "TypeError",
     "evalue": "__init__() missing 4 required positional arguments: 'linear', 'quadratic', 'offset' and 'vartype'",
     "output_type": "error"
    }
   ],
   "source": [
    "# builder.add_term(1.0, 0, 0)\n",
    "# builder.add_term(-2.0, 1, 1)\n",
    "# builder.add_term(0.5, 1, 3)\n",
    "bqm = dimod.BinaryQuadraticModel({0: -1, 1: -1}, {(0, 1): 2}, 0.0, dimod.BINARY)  # QUBO\n",
    "# 4 required positional arguments: 'linear', 'quadratic', 'offset' and 'vartype'\n",
    "bqm = dimod.BinaryQuadraticModel()"
   ]
  },
  {
   "cell_type": "code",
   "execution_count": 13,
   "metadata": {
    "pycharm": {
     "is_executing": false
    }
   },
   "outputs": [
    {
     "name": "stderr",
     "text": [
      "`background_callback` is deprecated and will be removed in 1.0, use `hooks` instead\n"
     ],
     "output_type": "stream"
    },
    {
     "data": {
      "text/plain": "<Future at 0x11e5ec290 state=running>"
     },
     "metadata": {},
     "output_type": "execute_result",
     "execution_count": 13
    }
   ],
   "source": [
    "from wildcat.util.matrix import random_symmetric_matrix\n",
    "from wildcat.solver.ising_hamiltonian_solver import IsingHamiltonianSolver\n",
    "\n",
    "     \n",
    "Jij = random_symmetric_matrix(size=40)\n",
    "solver = IsingHamiltonianSolver(ising_interactions=Jij)\n",
    "\n",
    "def callback(arrangement):\n",
    "    e = solver.hamiltonian_energy(arrangement)\n",
    "    print(\"Energy: \", e)\n",
    "    print(\"Spins: \", arrangement)\n",
    "\n",
    "solver.solve(callback)\n"
   ]
  },
  {
   "cell_type": "code",
   "execution_count": 14,
   "metadata": {
    "pycharm": {
     "is_executing": false
    }
   },
   "outputs": [
    {
     "name": "stdout",
     "text": [
      "Energy:  -137.77164435586664\nSpins:  [-1  1 -1 -1 -1  1 -1 -1  1  1  1 -1  1 -1  1  1 -1  1  1 -1  1 -1  1 -1\n  1  1 -1 -1  1 -1 -1 -1 -1 -1  1 -1 -1 -1 -1 -1]\n"
     ],
     "output_type": "stream"
    },
    {
     "data": {
      "text/plain": "<Future at 0x11e638b50 state=finished returned ndarray>"
     },
     "metadata": {},
     "output_type": "execute_result",
     "execution_count": 14
    }
   ],
   "source": [
    "from wildcat.network.local_endpoint import LocalEndpoint\n",
    "     \n",
    "solver.solve(callback, endpoint=LocalEndpoint())"
   ]
  },
  {
   "cell_type": "code",
   "execution_count": 15,
   "metadata": {
    "pycharm": {
     "is_executing": false
    }
   },
   "outputs": [],
   "source": [
    "# https://dimod.readthedocs.io/en/latest/reference/binary_quadratic_model.html?highlight=objective%20function\n",
    "bqm = dimod.BinaryQuadraticModel({0: 1, 1: -1, 2: .5},{(0, 1): .5, (1, 2): 1.5},1.4,dimod.SPIN)"
   ]
  },
  {
   "cell_type": "code",
   "execution_count": 16,
   "metadata": {
    "pycharm": {
     "is_executing": false
    }
   },
   "outputs": [
    {
     "data": {
      "text/plain": "3"
     },
     "metadata": {},
     "output_type": "execute_result",
     "execution_count": 16
    }
   ],
   "source": [
    "len(bqm)"
   ]
  },
  {
   "cell_type": "code",
   "execution_count": 17,
   "metadata": {
    "pycharm": {
     "is_executing": false
    }
   },
   "outputs": [
    {
     "name": "stdout",
     "text": [
      "0\n1\n2\n"
     ],
     "output_type": "stream"
    }
   ],
   "source": [
    "for el in bqm:\n",
    "    print(el)"
   ]
  },
  {
   "cell_type": "code",
   "execution_count": 18,
   "metadata": {
    "pycharm": {
     "is_executing": false
    }
   },
   "outputs": [],
   "source": [
    "bqm = dimod.BinaryQuadraticModel({'a': 0.0, 'b': -1.0, 'c': 0.5},{('a', 'b'): -1.0, ('b', 'c'): 1.5},1.4,dimod.SPIN)"
   ]
  },
  {
   "cell_type": "code",
   "execution_count": 19,
   "metadata": {
    "pycharm": {
     "is_executing": false
    }
   },
   "outputs": [
    {
     "data": {
      "text/plain": "True"
     },
     "metadata": {},
     "output_type": "execute_result",
     "execution_count": 19
    }
   ],
   "source": [
    "linear = {1: 1, 2: 2, 3: 3, 4: 4}\n",
    "quadratic = {(1, 2): 12, (1, 3): 13, (1, 4): 14, (2, 3): 23, (2, 4): 24, (3, 4): 34}\n",
    "offset = 0.0\n",
    "vartype = dimod.BINARY\n",
    "bqm_k4 = dimod.BinaryQuadraticModel(linear, quadratic, offset, vartype)\n",
    "bqm_k4.info = {'Complete K4 binary quadratic model.'}\n",
    "bqm_k4.info.issubset({'Complete K3 binary quadratic model.', 'Complete K4 binary quadratic model.', 'Complete K5 binary quadratic model.'})\n"
   ]
  },
  {
   "cell_type": "code",
   "execution_count": 20,
   "metadata": {
    "pycharm": {
     "is_executing": false
    }
   },
   "outputs": [
    {
     "name": "stdout",
     "text": [
      "{2: 12, 3: 13, 4: 14}\n{1: 12, 3: 23, 4: 24}\n{1: 13, 2: 23, 4: 34}\n{1: 14, 2: 24, 3: 34}\n[<dimod.views.bqm.NeighbourView object at 0x11e61ae90>, <dimod.views.bqm.NeighbourView object at 0x11e6a5250>, <dimod.views.bqm.NeighbourView object at 0x11e6a5210>, <dimod.views.bqm.NeighbourView object at 0x11e6a53d0>]\n"
     ],
     "output_type": "stream"
    }
   ],
   "source": [
    "# was bqm_k4.adj.viewitems()   # Show all adjacencies\n",
    "values = bqm_k4.adj.values() #viewitems()   # Show all adjacencies \n",
    "for v in values:\n",
    "    print(v)\n",
    "# [(1, {2: 12, 3: 13, 4: 14}),\n",
    "#  (2, {1: 12, 3: 23, 4: 24}),\n",
    "#  (3, {1: 13, 2: 23, 4: 34}),\n",
    "#  (4, {1: 14, 2: 24, 3: 34})]\n",
    "print(list(values))\n"
   ]
  },
  {
   "cell_type": "code",
   "execution_count": 21,
   "metadata": {
    "pycharm": {
     "is_executing": false
    }
   },
   "outputs": [
    {
     "name": "stdout",
     "text": [
      "(1, <dimod.views.bqm.NeighbourView object at 0x11e6356d0>)\n(2, <dimod.views.bqm.NeighbourView object at 0x11e355bd0>)\n(3, <dimod.views.bqm.NeighbourView object at 0x11e6381d0>)\n(4, <dimod.views.bqm.NeighbourView object at 0x11e3551d0>)\n[(1, <dimod.views.bqm.NeighbourView object at 0x11e635410>), (2, <dimod.views.bqm.NeighbourView object at 0x11e638a10>), (3, <dimod.views.bqm.NeighbourView object at 0x11e350f10>), (4, <dimod.views.bqm.NeighbourView object at 0x11e3506d0>)]\n"
     ],
     "output_type": "stream"
    }
   ],
   "source": [
    "items = bqm_k4.adj.items() #viewitems()   # Show all adjacencies \n",
    "for v in items:\n",
    "    print(v)\n",
    "# [(1, {2: 12, 3: 13, 4: 14}),\n",
    "#  (2, {1: 12, 3: 23, 4: 24}),\n",
    "#  (3, {1: 13, 2: 23, 4: 34}),\n",
    "#  (4, {1: 14, 2: 24, 3: 34})]\n",
    "print(list(items))"
   ]
  },
  {
   "cell_type": "code",
   "execution_count": 22,
   "metadata": {
    "pycharm": {
     "is_executing": false
    }
   },
   "outputs": [
    {
     "data": {
      "text/plain": "array([-1., -1.])"
     },
     "metadata": {},
     "output_type": "execute_result",
     "execution_count": 22
    }
   ],
   "source": [
    "# This example provides samples for a two-variable QUBO model.\n",
    "# import dimod\n",
    "sampler = dimod.SimulatedAnnealingSampler()\n",
    "Q = {(0, 0): -1, (1, 1): -1, (0, 1): 2}\n",
    "bqm = dimod.BinaryQuadraticModel.from_qubo(Q, offset = 0.0)\n",
    "response = sampler.sample(bqm, num_reads=2)\n",
    "response.data_vectors['energy']        \n",
    "# array([-1., -1.])"
   ]
  },
  {
   "cell_type": "code",
   "execution_count": 24,
   "metadata": {
    "pycharm": {
     "is_executing": false
    }
   },
   "outputs": [],
   "source": [
    "bqm2 = dimod.BinaryQuadraticModel({0: 1, 1: -1, 2: .5},{(0, 1): .5, (1, 2): 1.5},1.4,dimod.SPIN)"
   ]
  },
  {
   "cell_type": "code",
   "execution_count": 28,
   "metadata": {
    "pycharm": {
     "is_executing": false
    }
   },
   "outputs": [],
   "source": [
    "bqm3 = dimod.BinaryQuadraticModel({'a': 0.0, 'b': -1.0, 'c': 0.5},{('a', 'b'): -1.0, ('b', 'c'): 1.5},1.4,dimod.SPIN)"
   ]
  },
  {
   "cell_type": "code",
   "execution_count": 25,
   "metadata": {
    "pycharm": {
     "is_executing": false
    }
   },
   "outputs": [
    {
     "name": "stdout",
     "text": [
      "[<dimod.views.bqm.NeighbourView object at 0x11e655a90>, <dimod.views.bqm.NeighbourView object at 0x11e655850>]\n"
     ],
     "output_type": "stream"
    }
   ],
   "source": [
    "values = bqm.adj.values()\n",
    "print(list(values))"
   ]
  },
  {
   "cell_type": "code",
   "execution_count": 26,
   "metadata": {
    "pycharm": {
     "is_executing": false
    }
   },
   "outputs": [
    {
     "name": "stdout",
     "text": [
      "[<dimod.views.bqm.NeighbourView object at 0x11e649ad0>, <dimod.views.bqm.NeighbourView object at 0x11e649510>, <dimod.views.bqm.NeighbourView object at 0x11e649290>]\n"
     ],
     "output_type": "stream"
    }
   ],
   "source": [
    "values = bqm2.adj.values()\n",
    "print(list(values))"
   ]
  },
  {
   "cell_type": "code",
   "execution_count": 29,
   "metadata": {
    "pycharm": {
     "is_executing": false
    }
   },
   "outputs": [
    {
     "name": "stdout",
     "text": [
      "[<dimod.views.bqm.NeighbourView object at 0x11e62fd10>, <dimod.views.bqm.NeighbourView object at 0x11e62ff50>, <dimod.views.bqm.NeighbourView object at 0x11e62f610>]\n"
     ],
     "output_type": "stream"
    }
   ],
   "source": [
    "values = bqm3.adj.values()\n",
    "print(list(values))"
   ]
  },
  {
   "cell_type": "code",
   "execution_count": null,
   "metadata": {
    "pycharm": {
     "is_executing": false
    }
   },
   "outputs": [],
   "source": [
    "# bqm (BinaryQuadraticModel) – Binary quadratic model to be sampled from.\n",
    "# beta_range (tuple, optional) – Beginning and end of the beta schedule (beta is the inverse temperature) as a 2-tuple. The schedule is applied linearly in beta. Default is chosen based on the total bias associated with each node.\n",
    "# num_reads (int, optional) – Number of reads. Each sample is the result of a single run of the simulated annealing algorithm.\n",
    "# num_sweeps (int, optional) – Number of sweeps or steps. Default is 1000."
   ]
  },
  {
   "cell_type": "code",
   "execution_count": 30,
   "metadata": {
    "pycharm": {
     "is_executing": false
    }
   },
   "outputs": [
    {
     "data": {
      "text/plain": "array([-1., -1.])"
     },
     "metadata": {},
     "output_type": "execute_result",
     "execution_count": 30
    }
   ],
   "source": [
    "# This example provides samples for a two-variable QUBO model.\n",
    "# import dimod\n",
    "sampler = dimod.SimulatedAnnealingSampler()\n",
    "Q = {(0, 0): -1, (1, 1): -1, (0, 1): 2}\n",
    "bqm = dimod.BinaryQuadraticModel.from_qubo(Q, offset = 0.0)\n",
    "response = sampler.sample(bqm, num_reads=2)\n",
    "response.data_vectors['energy']        \n",
    "# array([-1., -1.])"
   ]
  },
  {
   "cell_type": "code",
   "execution_count": 31,
   "metadata": {
    "pycharm": {
     "is_executing": false
    }
   },
   "outputs": [],
   "source": [
    "import networkx\n",
    "def create_example_graph():\n",
    "    G = networkx.DiGraph()\n",
    "\n",
    "    # USD\n",
    "    G.add_edge('USD', 'EUR', weight=0.90745)\n",
    "    G.add_edge('USD', 'JPY', weight=104.05)\n",
    "    G.add_edge('USD', 'CAD', weight=1.31772)\n",
    "    G.add_edge('USD', 'CNY', weight=6.72585)\n",
    "\n",
    "    G.add_edge('EUR', 'USD', weight=1.10185)\n",
    "    G.add_edge('JPY', 'USD', weight=0.00961)\n",
    "    G.add_edge('CAD', 'USD', weight=0.75875)\n",
    "    G.add_edge('CNY', 'USD', weight=0.14864)\n",
    "\n",
    "    # EUR\n",
    "    G.add_edge('EUR', 'JPY', weight=114.65)\n",
    "    G.add_edge('EUR', 'CAD', weight=1.45193)\n",
    "    G.add_edge('EUR', 'CNY', weight=7.41088)\n",
    "\n",
    "    G.add_edge('JPY', 'EUR', weight=0.00872)\n",
    "    G.add_edge('CAD', 'EUR', weight=0.68853)\n",
    "    G.add_edge('CNY', 'EUR', weight=0.13488)\n",
    "\n",
    "    # JPY\n",
    "    G.add_edge('JPY', 'CAD', weight=0.01266)\n",
    "    G.add_edge('JPY', 'CNY', weight=0.06463)\n",
    "\n",
    "    G.add_edge('CAD', 'JPY', weight=78.94)\n",
    "    G.add_edge('CNY', 'JPY', weight=15.47)\n",
    "\n",
    "    # CAD\n",
    "    G.add_edge('CAD', 'CNY', weight=5.10327)\n",
    "\n",
    "    G.add_edge('CNY', 'CAD', weight=0.19586)\n",
    "\n",
    "    return G"
   ]
  },
  {
   "cell_type": "code",
   "execution_count": 35,
   "metadata": {
    "pycharm": {
     "is_executing": false
    }
   },
   "outputs": [],
   "source": [
    "# 1QBit SDK\n",
    "# import qdk.binary_polynomial as bp\n",
    "# seems to be dimod.BinaryQuadraticModel\n",
    " \n",
    "# import qdk.common_solver_interface as csi\n",
    "# solvers?\n",
    "# TODO check this\n",
    "\n"
   ]
  },
  {
   "cell_type": "code",
   "execution_count": 36,
   "metadata": {
    "pycharm": {
     "is_executing": false
    }
   },
   "outputs": [],
   "source": [
    "# Math\n",
    "import numpy\n",
    "# Showing image files in Jupyter\n",
    "from IPython.display import Image, display\n",
    "def visualize(G, edges_in_solution, styles):\n",
    "    '''\n",
    "        Draw a given graph G and the solutions in edges_in_solution, applying styles\n",
    "    '''\n",
    "\n",
    "    if not edges_in_solutions:\n",
    "        print('No feasible solutions found!')\n",
    "\n",
    "        return False\n",
    "    else:\n",
    "        # For each solution\n",
    "        for i, edges_in_solution in enumerate(edges_in_solutions):\n",
    "            # Calculate and print the profit for this solution\n",
    "            profit = calculate_profit(G, edges_in_solution)\n",
    "            print('Profit: %.3f%%' % profit, 'Edges in solution: %i %s' % (len(edges_in_solution), edges_in_solution))\n",
    "\n",
    "            # Save a plot of this solution to file\n",
    "            draw_solution(G, 'plots/solution%i.png' % i, styles, edges_in_solution)\n",
    "\n",
    "        return True\n",
    "\n",
    "def draw_solution(G, filename, styles=None, extra_edges=None):\n",
    "    '''\n",
    "        Draw a graph using GraphViz, save as png to filename, apply\n",
    "        styles if given, and draw extra edges in red if given\n",
    "    '''\n",
    "\n",
    "    # Convert weight to labels, as assumed by GraphViz\n",
    "    weight_to_label(G)\n",
    "\n",
    "    # Convert the Networkx graph to a GraphViz AGraph\n",
    "    A = networkx.nx_agraph.to_agraph(G)\n",
    "\n",
    "    if styles is not None:\n",
    "        apply_styles(A, styles)\n",
    "\n",
    "    # Add the edges in the solution, with a different colour\n",
    "    if extra_edges is not None:\n",
    "        for edge in extra_edges:\n",
    "            u, v = edge\n",
    "            d = G[u][v]\n",
    "            A.add_edge(edge[0], edge[1], color='#00aeef', fontcolor='#00aeef', label=d['weight'])\n",
    "\n",
    "    # Make a layout, draw the graph and save it to file\n",
    "    A.layout(prog='dot')\n",
    "    A.draw(filename)\n",
    "\n",
    "def get_styles():\n",
    "    '''\n",
    "        Set up some hard-corded styles which customize the drawing of graphs\n",
    "    '''\n",
    "\n",
    "    styles = {\n",
    "    'graph': {\n",
    "        'fontcolor': '#1c2b39',\n",
    "        'bgcolor': 'white',\n",
    "    },\n",
    "    'nodes': {\n",
    "        'fontname': 'Brandon',\n",
    "        'fontcolor': '#1c2b39',\n",
    "        'color': '#1c2b39',\n",
    "        'style': 'bold',\n",
    "    },\n",
    "    'edges': {\n",
    "        'style': 'bold',\n",
    "        'arrowhead': 'open',\n",
    "        'fontname': 'Brandon',\n",
    "        'fontcolor': '#1c2b39',\n",
    "    }\n",
    "    }\n",
    "    return styles\n",
    "\n",
    "def apply_styles(A, styles):\n",
    "    '''\n",
    "        Apply styles (dict) to a graph A (PyGraphViz graph)\n",
    "    '''\n",
    "\n",
    "    # Apply styles to graph, nodes and edges\n",
    "    A.graph_attr.update(('graph' in styles and styles['graph']) or {})\n",
    "    A.node_attr.update(('nodes' in styles and styles['nodes']) or {})\n",
    "    A.edge_attr.update(('edges' in styles and styles['edges']) or {})\n",
    "\n",
    "    return A\n",
    "\n",
    "def weight_to_label(G):\n",
    "    '''\n",
    "        PyGraphViz draws the 'label' attribute of edges in a graph but we are storing the conversion rates\n",
    "        in the 'weight' attribute, so we convert from one to the other\n",
    "    '''\n",
    "\n",
    "    for _, _, d in G.edges(data=True):\n",
    "        d['label'] = d.get('weight','')\n",
    "\n",
    "def display_image(filename):\n",
    "    '''\n",
    "        Plot an image file to screen\n",
    "    '''\n",
    "\n",
    "    obj = Image(filename, width=\"70%\", height=\"70%\")\n",
    "    display(obj)\n"
   ]
  },
  {
   "cell_type": "code",
   "execution_count": 37,
   "metadata": {
    "pycharm": {
     "is_executing": false
    }
   },
   "outputs": [
    {
     "name": "stdout",
     "text": [
      "Number of edges: 20\nNodes: ['CAD', 'CNY', 'EUR', 'JPY', 'USD']\n"
     ],
     "output_type": "stream"
    }
   ],
   "source": [
    "# Create the example graph, a NetworkX DiGraph object\n",
    "G = create_example_graph()\n",
    "\n",
    "# Print the number of edges\n",
    "print('Number of edges:', G.number_of_edges())\n",
    "print('Nodes:', sorted(G.nodes()))"
   ]
  },
  {
   "cell_type": "code",
   "execution_count": 39,
   "metadata": {
    "pycharm": {
     "is_executing": false
    }
   },
   "outputs": [
    {
     "data": {
      "image/png": "[encoded data removed]",
      "text/plain": "<IPython.core.display.Image object>"
     },
     "metadata": {
      "image/png": {
       "width": "70%",
       "height": "70%"
      }
     },
     "output_type": "display_data"
    }
   ],
   "source": [
    "# Draw the graph without specifying a solution, which just draws the graph\n",
    "draw_solution(G, 'plots/example_graph.png', styles=get_styles())\n",
    "\n",
    "# Plot the image to screen\n",
    "display_image('plots/example_graph.png')"
   ]
  },
  {
   "cell_type": "code",
   "execution_count": 40,
   "metadata": {
    "pycharm": {
     "is_executing": false
    }
   },
   "outputs": [
    {
     "name": "stdout",
     "text": [
      "Found simple cycles: False\n"
     ],
     "output_type": "stream"
    }
   ],
   "source": [
    "def check_for_simple_cycles(G):\n",
    "    '''\n",
    "        Check if any simple arbitrage cycles of the type A -> B -> A\n",
    "        occur. If any are found, print their profit.\n",
    "        \n",
    "        Return True if any such simple profitable cycles are found and False if not\n",
    "    '''\n",
    "\n",
    "    found_simple_cycles = False\n",
    "\n",
    "    # For each pair of nodes\n",
    "    for node1 in G.nodes():\n",
    "        for node2 in G.nodes():\n",
    "            if node1 != node2:\n",
    "                factor = G[node1][node2]['weight']*G[node2][node1]['weight']\n",
    "                if factor > 1:\n",
    "                    print('The trade %s -> %s -> %s nets %.3f%% percent profit!' % (node1, node2, node1, (factor-1)*100))\n",
    "                    found_simple_cycles = True\n",
    "    return found_simple_cycles\n",
    "\n",
    "print('Found simple cycles: %s' % str(check_for_simple_cycles(G)))"
   ]
  },
  {
   "cell_type": "code",
   "execution_count": 41,
   "metadata": {
    "pycharm": {
     "is_executing": false
    }
   },
   "outputs": [],
   "source": [
    "# Must rewite slightly\n",
    "def create_arbitrage_qubo(G, M1, M2):\n",
    "    # #\n",
    "    #     Create a QUBO for finding optimal arbitrage opportunities in a given graph with given penalty constants.\n",
    "    #     \n",
    "    #     Arguments:\n",
    "    #         G: a directed graph (networkx.DiGraph)\n",
    "    #         M1: first penalty constant (float, positive)\n",
    "    #         M2: second penalty constant (float, positive)\n",
    "    #     \n",
    "    #     Returns:\n",
    "    #         A list of three polynomials representing the different terms in the problem, the first\n",
    "    #             is the objective function, the second is the first penalty term, and the third\n",
    "    #             is the second penalty term (list of QDK QuadraticBinaryPolynomial)\n",
    "    #         A mapping from logical variable indices to edges on the graph (dict)\n",
    "    #         A mapping from edges on the graph to logical variable indices (dict)\n",
    "    #         A mapping from each graph node to the respective incoming nodes (dict)\n",
    "    #         A mapping from each graph node to the respective outgoing nodes (dict)\n",
    "    # #\n",
    "\n",
    "    assert M1 > 0 and M2 > 0, 'The penalty constants M1 and M2 must be positive.'\n",
    "\n",
    "    # A builder which we will re-use\n",
    "    #builder = bp.QuadraticBinaryPolynomialBuilder() # -- cannot do. We hope for an equivalent\n",
    "    builder = dimod.BinaryQuadraticModel()\n",
    "    \n",
    "\n",
    "    # Construct the objective function itself, as well as some useful mappings\n",
    "    index_to_edge = {}\n",
    "    edge_to_index = {}\n",
    "    incoming = {}\n",
    "    outgoing = {}\n",
    "    for index, (i,j, data) in enumerate(G.edges(data=True)):\n",
    "        # Update the index/edge mappings\n",
    "        index_to_edge[index] = (i,j)\n",
    "        edge_to_index[(i,j)] = index\n",
    "\n",
    "        # Update the incoming/outgoing mappings\n",
    "        incoming.setdefault(i,[]).append(j)\n",
    "        outgoing.setdefault(j,[]).append(i)\n",
    "\n",
    "        # Add terms to the objective function. We assume that the conversion rates are given\n",
    "        # by the edge weights.\n",
    "        conversion_rate = data['weight']\n",
    "        builder.add_term(numpy.log10(conversion_rate), index, index)\n",
    "\n",
    "    # Build the objective function\n",
    "    objective = builder.build_polynomial()\n",
    "\n",
    "    # The first penalty term\n",
    "    builder.reset()\n",
    "    penalty1 = builder.build_polynomial()\n",
    "    for i in G.nodes():\n",
    "        # Reset the builder such that the next sum starts from an empty builder\n",
    "        builder.reset()\n",
    "        for j in outgoing[i]:\n",
    "            index = edge_to_index[(i,j)]\n",
    "            builder.add_term(1, index, index)\n",
    "\n",
    "        for j in incoming[i]:\n",
    "            index = edge_to_index[(j,i)]\n",
    "            builder.add_term(-1, index, index)\n",
    "\n",
    "        # Square the sum of terms we have so far\n",
    "        builder.power(2)\n",
    "\n",
    "        # Build the polynomial for the new terms and add to the terms from before, in penalty1\n",
    "        term = builder.build_polynomial()\n",
    "        penalty1.sum(term)\n",
    "\n",
    "    # Multiply by the penalty constant\n",
    "    penalty1.multiply_by_factor(-M1)\n",
    "\n",
    "    # The second penalty term\n",
    "    builder.reset()\n",
    "    for i in G.nodes():\n",
    "        for j in outgoing[i]:\n",
    "            index = edge_to_index[(i,j)]\n",
    "            builder.add_term(-1, index, index)\n",
    "\n",
    "            for jp in outgoing[i]:\n",
    "                indexp = edge_to_index[(i,jp)]\n",
    "                builder.add_term(1, index, indexp)\n",
    "\n",
    "    # Build the second penalty term\n",
    "    penalty2 = builder.build_polynomial()\n",
    "\n",
    "    # Multiply by the penalty constant\n",
    "    penalty2.multiply_by_factor(-M2)\n",
    "\n",
    "    # Return the polynomials and mappings\n",
    "    return [objective, penalty1, penalty2], index_to_edge, edge_to_index, incoming, outgoing"
   ]
  },
  {
   "cell_type": "code",
   "execution_count": 42,
   "metadata": {
    "pycharm": {
     "is_executing": false
    }
   },
   "outputs": [],
   "source": [
    "# Convert solution to edges (build solution graph)\n",
    "# calaculate profit\n",
    "# sum_qubos\n",
    "\n",
    "def convert_solution_to_edges(solution, index_to_edge):\n",
    "    '''\n",
    "        Given a solution (QDK BinarySolution) and an index-to-edge mapping (dict), \n",
    "        return the list of edges (list of tuple) that correspond to that solution\n",
    "    '''\n",
    "\n",
    "    # Get the binary configuration, which is a dict from variable index\n",
    "    # to a boolean (True/False)\n",
    "    configuration = solution.configuration\n",
    "\n",
    "    # Iterate over the binary configuration, adding edges if the respective \n",
    "    # binary variable was set to True\n",
    "    edges_in_solution = []\n",
    "    for index, value in configuration.items():\n",
    "        if value:\n",
    "            edges_in_solution.append(index_to_edge[index])\n",
    "\n",
    "    return edges_in_solution\n",
    "\n",
    "def calculate_profit(G, edges_in_solution):\n",
    "    '''\n",
    "        Find the profit (in percent) for a given arbitrage opportunity, represented as a list of \n",
    "        edges on a graph. If the result is 5, that means a 5% profit.\n",
    "    '''\n",
    "\n",
    "    # Multiply the conversion rates\n",
    "    factor = 1\n",
    "    for (u,v) in edges_in_solution:\n",
    "        factor *= G[u][v]['weight']\n",
    "\n",
    "    # Convert from 1.05 to 0.05 and then to 5%\n",
    "    profit = 100*(factor-1)\n",
    "\n",
    "    return profit\n",
    "\n",
    "def sum_qubos(qubo_list):\n",
    "    '''\n",
    "        Given a list of QuadraticBinaryPolynomials, sum them and return the sum\n",
    "    '''\n",
    "\n",
    "    # Create an empty polynomial\n",
    "    #builder = bp.QuadraticBinaryPolynomialBuilder() -- cannot do\n",
    "    builder = dimod.BinaryQuadraticModel()\n",
    "    qubo = builder.build_polynomial()\n",
    "    # provide different instantiation of qubo\n",
    "\n",
    "    # Add each of the polynomials\n",
    "    for element in qubo_list:\n",
    "        qubo.sum(element)\n",
    "\n",
    "    return qubo"
   ]
  },
  {
   "cell_type": "code",
   "execution_count": 43,
   "metadata": {
    "pycharm": {
     "is_executing": false
    }
   },
   "outputs": [],
   "source": [
    "# Edge checking, check profits - \n",
    "# Results\n",
    "def check_feasible_solution(solution, penalty_terms):\n",
    "    '''\n",
    "        Check feasibility of a solution (BinarySolution) vs. a list of penalty terms \n",
    "        (QuadraticBinaryPolynomial)\n",
    "        Raises AssertionError if not feasible\n",
    "    '''\n",
    "\n",
    "    # For each penalty term\n",
    "    for index, penalty_term in enumerate(penalty_terms):\n",
    "        # Instantiate an evaluator and evaluate the polynomial at the given solution\n",
    "        # evaluator = bp.QBPEvaluator(penalty_term, solution.configuration)\n",
    "        # Have to try with different evaluator here\n",
    "        evaluator = 0 # added zero here, code incolmlete!\n",
    "        \n",
    "        # The evaluation should return 0\n",
    "        assert numpy.isclose(evaluator.value, 0), 'Penalty %i has non-zero value %.2f' % (index, evaluator.value)\n",
    "\n",
    "def check_feasible_edges(edges_in_solution):\n",
    "    '''\n",
    "        Check feasibility of a solution given as a list of edges (tuples of node names)\n",
    "        Raises AssertionError if not feasible\n",
    "    '''\n",
    "\n",
    "    # Build incoming and outgoing dictionaries for edges_in_solution\n",
    "    incoming = {}\n",
    "    outgoing = {}\n",
    "    for i,j in edges_in_solution:\n",
    "        incoming.setdefault(i,[]).append(j)\n",
    "        outgoing.setdefault(j,[]).append(i)\n",
    "\n",
    "    assert sorted(incoming.keys()) == sorted(outgoing.keys())\n",
    "    for key in incoming.keys():\n",
    "        assert len(incoming[key]) == len(outgoing[key]), 'At least one node breaks the flow condition: equal incoming and outgoing'\n",
    "        assert len(incoming[key]) <= 1, 'At least one node has more than one incoming edge %s %s' % (key, incoming[key])\n",
    "        assert len(outgoing[key]) <= 1, 'At least one node has more than one outgoing edge %s %s' % (key, outgoing[key])\n",
    "\n",
    "def check_edges_in_graph(edges_in_solution, G):\n",
    "    '''\n",
    "        Check if all edges_in_solution are indeed in the graph G\n",
    "        Raises AssertionError if at least one edge from edges_in_solution is not in the graph G\n",
    "    '''\n",
    "\n",
    "    edges = G.edges()\n",
    "    for edge_in_solution in edges_in_solution:\n",
    "        assert edge_in_solution in edges, 'Solution edge not in list of edges %s' % edge_in_solution\n",
    "\n",
    "def check_profitable(edges_in_solution, G):\n",
    "    '''\n",
    "        We aren't interested in solutions that don't lead to a profit\n",
    "        Raises AssertionError if not profitable\n",
    "    '''\n",
    "\n",
    "    assert calculate_profit(G, edges_in_solution) > 0\n"
   ]
  },
  {
   "cell_type": "code",
   "execution_count": 44,
   "metadata": {
    "pycharm": {
     "is_executing": false
    }
   },
   "outputs": [],
   "source": [
    "def solve_arbitrage_qubo(G, M1, M2, solver):\n",
    "    ''' \n",
    "        Create the QUBO, solve it, convert the solution to a list of edges, \n",
    "        and perform checks on the solution\n",
    "    '''\n",
    "\n",
    "    # Create QUBO\n",
    "    qubo_list, index_to_edge, edge_to_index, incoming, outgoing = create_arbitrage_qubo(G, M1, M2)\n",
    "    qubo = sum_qubos(qubo_list)\n",
    "\n",
    "    # We want to maximize, but will be using a minimization method, so we have to multiply the \n",
    "    # QUBO by -1, and later multiply the energies by -1 as well\n",
    "    qubo.multiply_by_factor(-1)\n",
    "\n",
    "    # Solve\n",
    "    solutions = solver.minimize(qubo)\n",
    "\n",
    "    # Iterate over solutions sorted by decreasing energy - maximum energy is maximum profit, so maximum\n",
    "    # profit will come first. The -1 in the lambda function is necessary due to the conversion back \n",
    "    # from a minimization to a maximization problem. The order of sorting is reversed, since the default\n",
    "    # order is low to high, and we want high to low.\n",
    "    feasible_solutions = []\n",
    "    for solution in sorted(solutions, key=lambda x:-x.energy, reverse=True):\n",
    "        # Convert the solution to a list of edges\n",
    "        edges_in_solution = convert_solution_to_edges(solution, index_to_edge)\n",
    "\n",
    "        try:\n",
    "            # Feasibility/validity checks\n",
    "            check_feasible_solution(solution, qubo_list[1:])\n",
    "            check_feasible_edges(edges_in_solution)\n",
    "            check_edges_in_graph(edges_in_solution, G)\n",
    "            check_profitable(edges_in_solution, G)\n",
    "\n",
    "        except AssertionError:\n",
    "            # Skip solutions that fail the checks\n",
    "            continue\n",
    "\n",
    "        # If a solution passed the checks above, we add it to the list of feasible solutions\n",
    "        feasible_solutions.append(edges_in_solution)\n",
    "\n",
    "    return feasible_solutions"
   ]
  },
  {
   "cell_type": "code",
   "execution_count": 47,
   "metadata": {
    "pycharm": {
     "is_executing": false
    }
   },
   "outputs": [
    {
     "traceback": [
      "\u001b[0;31m---------------------------------------------------------------------------\u001b[0m",
      "\u001b[0;31mTypeError\u001b[0m                                 Traceback (most recent call last)",
      "\u001b[0;32m<ipython-input-47-f9c3031af09f>\u001b[0m in \u001b[0;36m<module>\u001b[0;34m\u001b[0m\n\u001b[1;32m     21\u001b[0m \u001b[0;34m\u001b[0m\u001b[0m\n\u001b[1;32m     22\u001b[0m \u001b[0msampler\u001b[0m \u001b[0;34m=\u001b[0m \u001b[0mdimod\u001b[0m\u001b[0;34m.\u001b[0m\u001b[0mExactSolver\u001b[0m\u001b[0;34m(\u001b[0m\u001b[0;34m)\u001b[0m\u001b[0;34m\u001b[0m\u001b[0;34m\u001b[0m\u001b[0m\n\u001b[0;32m---> 23\u001b[0;31m \u001b[0medges_in_solutions\u001b[0m \u001b[0;34m=\u001b[0m \u001b[0msolve_arbitrage_qubo\u001b[0m\u001b[0;34m(\u001b[0m\u001b[0mG\u001b[0m\u001b[0;34m,\u001b[0m \u001b[0mM1\u001b[0m\u001b[0;34m,\u001b[0m \u001b[0mM2\u001b[0m\u001b[0;34m,\u001b[0m \u001b[0msampler\u001b[0m\u001b[0;34m)\u001b[0m\u001b[0;34m\u001b[0m\u001b[0;34m\u001b[0m\u001b[0m\n\u001b[0m\u001b[1;32m     24\u001b[0m \u001b[0;34m\u001b[0m\u001b[0m\n\u001b[1;32m     25\u001b[0m \u001b[0;31m# Visualize\u001b[0m\u001b[0;34m\u001b[0m\u001b[0;34m\u001b[0m\u001b[0;34m\u001b[0m\u001b[0m\n",
      "\u001b[0;32m<ipython-input-44-f0c9917457df>\u001b[0m in \u001b[0;36msolve_arbitrage_qubo\u001b[0;34m(G, M1, M2, solver)\u001b[0m\n\u001b[1;32m      6\u001b[0m \u001b[0;34m\u001b[0m\u001b[0m\n\u001b[1;32m      7\u001b[0m     \u001b[0;31m# Create QUBO\u001b[0m\u001b[0;34m\u001b[0m\u001b[0;34m\u001b[0m\u001b[0;34m\u001b[0m\u001b[0m\n\u001b[0;32m----> 8\u001b[0;31m     \u001b[0mqubo_list\u001b[0m\u001b[0;34m,\u001b[0m \u001b[0mindex_to_edge\u001b[0m\u001b[0;34m,\u001b[0m \u001b[0medge_to_index\u001b[0m\u001b[0;34m,\u001b[0m \u001b[0mincoming\u001b[0m\u001b[0;34m,\u001b[0m \u001b[0moutgoing\u001b[0m \u001b[0;34m=\u001b[0m \u001b[0mcreate_arbitrage_qubo\u001b[0m\u001b[0;34m(\u001b[0m\u001b[0mG\u001b[0m\u001b[0;34m,\u001b[0m \u001b[0mM1\u001b[0m\u001b[0;34m,\u001b[0m \u001b[0mM2\u001b[0m\u001b[0;34m)\u001b[0m\u001b[0;34m\u001b[0m\u001b[0;34m\u001b[0m\u001b[0m\n\u001b[0m\u001b[1;32m      9\u001b[0m     \u001b[0mqubo\u001b[0m \u001b[0;34m=\u001b[0m \u001b[0msum_qubos\u001b[0m\u001b[0;34m(\u001b[0m\u001b[0mqubo_list\u001b[0m\u001b[0;34m)\u001b[0m\u001b[0;34m\u001b[0m\u001b[0;34m\u001b[0m\u001b[0m\n\u001b[1;32m     10\u001b[0m \u001b[0;34m\u001b[0m\u001b[0m\n",
      "\u001b[0;32m<ipython-input-41-13ed7365b3b5>\u001b[0m in \u001b[0;36mcreate_arbitrage_qubo\u001b[0;34m(G, M1, M2)\u001b[0m\n\u001b[1;32m     23\u001b[0m     \u001b[0;31m# A builder which we will re-use\u001b[0m\u001b[0;34m\u001b[0m\u001b[0;34m\u001b[0m\u001b[0;34m\u001b[0m\u001b[0m\n\u001b[1;32m     24\u001b[0m     \u001b[0;31m#builder = bp.QuadraticBinaryPolynomialBuilder() # -- cannot do. We hope for an equivalent\u001b[0m\u001b[0;34m\u001b[0m\u001b[0;34m\u001b[0m\u001b[0;34m\u001b[0m\u001b[0m\n\u001b[0;32m---> 25\u001b[0;31m     \u001b[0mbuilder\u001b[0m \u001b[0;34m=\u001b[0m \u001b[0mdimod\u001b[0m\u001b[0;34m.\u001b[0m\u001b[0mBinaryQuadraticModel\u001b[0m\u001b[0;34m(\u001b[0m\u001b[0;34m)\u001b[0m\u001b[0;34m\u001b[0m\u001b[0;34m\u001b[0m\u001b[0m\n\u001b[0m\u001b[1;32m     26\u001b[0m \u001b[0;34m\u001b[0m\u001b[0m\n\u001b[1;32m     27\u001b[0m \u001b[0;34m\u001b[0m\u001b[0m\n",
      "\u001b[0;32m/Volumes/LaCie/miniconda3/anaconda3/envs/workings/lib/python3.7/site-packages/dimod/decorators.py\u001b[0m in \u001b[0;36mnew_f\u001b[0;34m(*args, **kwargs)\u001b[0m\n\u001b[1;32m    244\u001b[0m             \u001b[0;31m# (note: if call arguments don't match actual function signature,\u001b[0m\u001b[0;34m\u001b[0m\u001b[0;34m\u001b[0m\u001b[0;34m\u001b[0m\u001b[0m\n\u001b[1;32m    245\u001b[0m             \u001b[0;31m# we'll fail here with the standard `TypeError`)\u001b[0m\u001b[0;34m\u001b[0m\u001b[0;34m\u001b[0m\u001b[0;34m\u001b[0m\u001b[0m\n\u001b[0;32m--> 246\u001b[0;31m             \u001b[0mbound_args\u001b[0m \u001b[0;34m=\u001b[0m \u001b[0minspect\u001b[0m\u001b[0;34m.\u001b[0m\u001b[0mgetcallargs\u001b[0m\u001b[0;34m(\u001b[0m\u001b[0mf\u001b[0m\u001b[0;34m,\u001b[0m \u001b[0;34m*\u001b[0m\u001b[0margs\u001b[0m\u001b[0;34m,\u001b[0m \u001b[0;34m**\u001b[0m\u001b[0mkwargs\u001b[0m\u001b[0;34m)\u001b[0m\u001b[0;34m\u001b[0m\u001b[0;34m\u001b[0m\u001b[0m\n\u001b[0m\u001b[1;32m    247\u001b[0m \u001b[0;34m\u001b[0m\u001b[0m\n\u001b[1;32m    248\u001b[0m             \u001b[0;31m# `getcallargs` doesn't merge additional positional/keyword arguments,\u001b[0m\u001b[0;34m\u001b[0m\u001b[0;34m\u001b[0m\u001b[0;34m\u001b[0m\u001b[0m\n",
      "\u001b[0;32m/Volumes/LaCie/miniconda3/anaconda3/envs/workings/lib/python3.7/inspect.py\u001b[0m in \u001b[0;36mgetcallargs\u001b[0;34m(*func_and_positional, **named)\u001b[0m\n\u001b[1;32m   1370\u001b[0m         \u001b[0;32mfor\u001b[0m \u001b[0marg\u001b[0m \u001b[0;32min\u001b[0m \u001b[0mreq\u001b[0m\u001b[0;34m:\u001b[0m\u001b[0;34m\u001b[0m\u001b[0;34m\u001b[0m\u001b[0m\n\u001b[1;32m   1371\u001b[0m             \u001b[0;32mif\u001b[0m \u001b[0marg\u001b[0m \u001b[0;32mnot\u001b[0m \u001b[0;32min\u001b[0m \u001b[0marg2value\u001b[0m\u001b[0;34m:\u001b[0m\u001b[0;34m\u001b[0m\u001b[0;34m\u001b[0m\u001b[0m\n\u001b[0;32m-> 1372\u001b[0;31m                 \u001b[0m_missing_arguments\u001b[0m\u001b[0;34m(\u001b[0m\u001b[0mf_name\u001b[0m\u001b[0;34m,\u001b[0m \u001b[0mreq\u001b[0m\u001b[0;34m,\u001b[0m \u001b[0;32mTrue\u001b[0m\u001b[0;34m,\u001b[0m \u001b[0marg2value\u001b[0m\u001b[0;34m)\u001b[0m\u001b[0;34m\u001b[0m\u001b[0;34m\u001b[0m\u001b[0m\n\u001b[0m\u001b[1;32m   1373\u001b[0m         \u001b[0;32mfor\u001b[0m \u001b[0mi\u001b[0m\u001b[0;34m,\u001b[0m \u001b[0marg\u001b[0m \u001b[0;32min\u001b[0m \u001b[0menumerate\u001b[0m\u001b[0;34m(\u001b[0m\u001b[0margs\u001b[0m\u001b[0;34m[\u001b[0m\u001b[0mnum_args\u001b[0m \u001b[0;34m-\u001b[0m \u001b[0mnum_defaults\u001b[0m\u001b[0;34m:\u001b[0m\u001b[0;34m]\u001b[0m\u001b[0;34m)\u001b[0m\u001b[0;34m:\u001b[0m\u001b[0;34m\u001b[0m\u001b[0;34m\u001b[0m\u001b[0m\n\u001b[1;32m   1374\u001b[0m             \u001b[0;32mif\u001b[0m \u001b[0marg\u001b[0m \u001b[0;32mnot\u001b[0m \u001b[0;32min\u001b[0m \u001b[0marg2value\u001b[0m\u001b[0;34m:\u001b[0m\u001b[0;34m\u001b[0m\u001b[0;34m\u001b[0m\u001b[0m\n",
      "\u001b[0;32m/Volumes/LaCie/miniconda3/anaconda3/envs/workings/lib/python3.7/inspect.py\u001b[0m in \u001b[0;36m_missing_arguments\u001b[0;34m(f_name, argnames, pos, values)\u001b[0m\n\u001b[1;32m   1300\u001b[0m                     (f_name, missing,\n\u001b[1;32m   1301\u001b[0m                       \u001b[0;34m\"positional\"\u001b[0m \u001b[0;32mif\u001b[0m \u001b[0mpos\u001b[0m \u001b[0;32melse\u001b[0m \u001b[0;34m\"keyword-only\"\u001b[0m\u001b[0;34m,\u001b[0m\u001b[0;34m\u001b[0m\u001b[0;34m\u001b[0m\u001b[0m\n\u001b[0;32m-> 1302\u001b[0;31m                       \"\" if missing == 1 else \"s\", s))\n\u001b[0m\u001b[1;32m   1303\u001b[0m \u001b[0;34m\u001b[0m\u001b[0m\n\u001b[1;32m   1304\u001b[0m \u001b[0;32mdef\u001b[0m \u001b[0m_too_many\u001b[0m\u001b[0;34m(\u001b[0m\u001b[0mf_name\u001b[0m\u001b[0;34m,\u001b[0m \u001b[0margs\u001b[0m\u001b[0;34m,\u001b[0m \u001b[0mkwonly\u001b[0m\u001b[0;34m,\u001b[0m \u001b[0mvarargs\u001b[0m\u001b[0;34m,\u001b[0m \u001b[0mdefcount\u001b[0m\u001b[0;34m,\u001b[0m \u001b[0mgiven\u001b[0m\u001b[0;34m,\u001b[0m \u001b[0mvalues\u001b[0m\u001b[0;34m)\u001b[0m\u001b[0;34m:\u001b[0m\u001b[0;34m\u001b[0m\u001b[0;34m\u001b[0m\u001b[0m\n",
      "\u001b[0;31mTypeError\u001b[0m: __init__() missing 4 required positional arguments: 'linear', 'quadratic', 'offset' and 'vartype'"
     ],
     "ename": "TypeError",
     "evalue": "__init__() missing 4 required positional arguments: 'linear', 'quadratic', 'offset' and 'vartype'",
     "output_type": "error"
    }
   ],
   "source": [
    "# We are now ready to search for arbitrage opportunities on the example graph.\n",
    "# Since this problem is small, we can even employ an exhaustive solver.\n",
    "# First we define the penalty constants, then we instantiate a solver, solve the problem\n",
    "# and finally plot the solution on top of the problem graph.\n",
    "# 1.\n",
    "# This is the first crucial bit\n",
    "# Penalty constants\n",
    "M1 = M2 = 10\n",
    "\n",
    "# Instantiate a solver\n",
    "# exhaustive_solver = csi.GrayExhaustiveSolver()\n",
    "# ==\n",
    "# I don't have the GrayExhaustiveSolver\n",
    "# I will use sampler = dimod.ExactSolver() for which I must set up the QUBO\n",
    "# This is how it looks:-\n",
    "bqm = dimod.BinaryQuadraticModel({0: 0.0, 1: 1.0}, {(0, 1): 0.5}, -0.5, dimod.SPIN)\n",
    "response = sampler.sample(bqm)\n",
    "\n",
    "# Solve the problem\n",
    "# edges_in_solutions = solve_arbitrage_qubo(G, M1, M2, exhaustive_solver)\n",
    "\n",
    "sampler = dimod.ExactSolver()\n",
    "edges_in_solutions = solve_arbitrage_qubo(G, M1, M2, sampler)\n",
    "\n",
    "# Visualize\n",
    "styles = get_styles()\n",
    "visualize(G, edges_in_solutions, styles)\n",
    "if edges_in_solutions:\n",
    "    # Plot the best solution to screen\n",
    "    display_image('plots/solution0.png')\n"
   ]
  },
  {
   "cell_type": "code",
   "execution_count": 48,
   "metadata": {
    "pycharm": {
     "is_executing": false
    }
   },
   "outputs": [],
   "source": [
    "# Must rewite slightly\n",
    "def create_arbitrage_qubo1(G, M1, M2):\n",
    "    '''\n",
    "        Create a QUBO for finding optimal arbitrage opportunities in a given graph with given penalty constants.\n",
    "        \n",
    "        Arguments:\n",
    "            G: a directed graph (networkx.DiGraph)\n",
    "            M1: first penalty constant (float, positive)\n",
    "            M2: second penalty constant (float, positive)\n",
    "        \n",
    "        Returns:\n",
    "            A list of three polynomials representing the different terms in the problem, the first\n",
    "                is the objective function, the second is the first penalty term, and the third\n",
    "                is the second penalty term (list of QDK QuadraticBinaryPolynomial)\n",
    "            A mapping from logical variable indices to edges on the graph (dict)\n",
    "            A mapping from edges on the graph to logical variable indices (dict)\n",
    "            A mapping from each graph node to the respective incoming nodes (dict)\n",
    "            A mapping from each graph node to the respective outgoing nodes (dict)\n",
    "    '''\n",
    "\n",
    "    assert M1 > 0 and M2 > 0, 'The penalty constants M1 and M2 must be positive.'\n",
    "\n",
    "    # A builder which we will re-use\n",
    "    # builder = bp.QuadraticBinaryPolynomialBuilder() # -- cannot do. We hope for an equivalent\n",
    "    builder = dimod.BinaryQuadraticModel()\n",
    "\n",
    "    \n",
    "\n",
    "    # Construct the objective function itself, as well as some useful mappings\n",
    "    index_to_edge = {}\n",
    "    edge_to_index = {}\n",
    "    incoming = {}\n",
    "    outgoing = {}\n",
    "    for index, (i,j, data) in enumerate(G.edges(data=True)):\n",
    "        # Update the index/edge mappings\n",
    "        index_to_edge[index] = (i,j)\n",
    "        edge_to_index[(i,j)] = index\n",
    "\n",
    "        # Update the incoming/outgoing mappings\n",
    "        incoming.setdefault(i,[]).append(j)\n",
    "        outgoing.setdefault(j,[]).append(i)\n",
    "\n",
    "        # Add terms to the objective function. We assume that the conversion rates are given\n",
    "        # by the edge weights.\n",
    "        conversion_rate = data['weight']\n",
    "        builder.add_term(numpy.log10(conversion_rate), index, index)\n",
    "\n",
    "    # Build the objective function\n",
    "    objective = builder.build_polynomial()\n",
    "\n",
    "    # The first penalty term\n",
    "    builder.reset()\n",
    "    penalty1 = builder.build_polynomial()\n",
    "    for i in G.nodes():\n",
    "        # Reset the builder such that the next sum starts from an empty builder\n",
    "        builder.reset()\n",
    "        for j in outgoing[i]:\n",
    "            index = edge_to_index[(i,j)]\n",
    "            builder.add_term(1, index, index)\n",
    "\n",
    "        for j in incoming[i]:\n",
    "            index = edge_to_index[(j,i)]\n",
    "            builder.add_term(-1, index, index)\n",
    "\n",
    "        # Square the sum of terms we have so far\n",
    "        builder.power(2)\n",
    "\n",
    "        # Build the polynomial for the new terms and add to the terms from before, in penalty1\n",
    "        term = builder.build_polynomial()\n",
    "        penalty1.sum(term)\n",
    "\n",
    "    # Multiply by the penalty constant\n",
    "    penalty1.multiply_by_factor(-M1)\n",
    "\n",
    "    # The second penalty term\n",
    "    builder.reset()\n",
    "    for i in G.nodes():\n",
    "        for j in outgoing[i]:\n",
    "            index = edge_to_index[(i,j)]\n",
    "            builder.add_term(-1, index, index)\n",
    "\n",
    "            for jp in outgoing[i]:\n",
    "                indexp = edge_to_index[(i,jp)]\n",
    "                builder.add_term(1, index, indexp)\n",
    "\n",
    "    # Build the second penalty term\n",
    "    penalty2 = builder.build_polynomial()\n",
    "\n",
    "    # Multiply by the penalty constant\n",
    "    penalty2.multiply_by_factor(-M2)\n",
    "\n",
    "    # Return the polynomials and mappings\n",
    "    return [objective, penalty1, penalty2], index_to_edge, edge_to_index, incoming, outgoing"
   ]
  },
  {
   "cell_type": "code",
   "execution_count": 49,
   "metadata": {
    "pycharm": {
     "is_executing": false
    }
   },
   "outputs": [],
   "source": [
    "# Must rewite slightly\n",
    "def create_arbitrage_qubo1(G, M1, M2):\n",
    "    '''\n",
    "        Create a QUBO for finding optimal arbitrage opportunities in a given graph with given penalty constants.\n",
    "        \n",
    "        Arguments:\n",
    "            G: a directed graph (networkx.DiGraph)\n",
    "            M1: first penalty constant (float, positive)\n",
    "            M2: second penalty constant (float, positive)\n",
    "        \n",
    "        Returns:\n",
    "            A list of three polynomials representing the different terms in the problem, the first\n",
    "                is the objective function, the second is the first penalty term, and the third\n",
    "                is the second penalty term (list of QDK QuadraticBinaryPolynomial)\n",
    "            A mapping from logical variable indices to edges on the graph (dict)\n",
    "            A mapping from edges on the graph to logical variable indices (dict)\n",
    "            A mapping from each graph node to the respective incoming nodes (dict)\n",
    "            A mapping from each graph node to the respective outgoing nodes (dict)\n",
    "    '''\n",
    "\n",
    "    assert M1 > 0 and M2 > 0, 'The penalty constants M1 and M2 must be positive.'\n",
    "\n",
    "    # A builder which we will re-use\n",
    "    # builder = bp.QuadraticBinaryPolynomialBuilder() -- cannot do. We hope for an equivalent\n",
    "    # builder = dimod.BinaryQuadraticModel()\n",
    "\n",
    "    # form:- dimod.BinaryQuadraticModel(linear (dict[variable, bias]), quadratic (dict[(variable, variable), bias])\n",
    "    # offset (number), vartype (Vartype/str/set), **kwargs)\n",
    "    # bqm = dimod.BinaryQuadraticModel({'a': 0.0, 'b': -1.0, 'c': 0.5},\n",
    "    # {('a', 'b'): -1.0, ('b', 'c'): 1.5}, 1.4, dimod.SPIN)\n",
    "    # bqm = dimod.BinaryQuadraticModel({'a': 0.0, 'b': -1.0, 'variable': bias},{('a', 'b'): -1.0,\n",
    "    # (variable, variable): bias}, 0.0, dimod.SPIN)\n",
    "\n",
    "    # Construct the objective function itself, as well as some useful mappings\n",
    "    index_to_edge = {}\n",
    "    edge_to_index = {}\n",
    "    incoming = {}\n",
    "    outgoing = {}\n",
    "    bqm = dimod.BinaryQuadraticModel({}, {}, 0.0, dimod.SPIN)\n",
    "    for index, (i,j, data) in enumerate(G.edges(data=True)):\n",
    "        # Update the index/edge mappings\n",
    "        index_to_edge[index] = (i,j)\n",
    "        edge_to_index[(i,j)] = index\n",
    "\n",
    "        # Update the incoming/outgoing mappings\n",
    "        incoming.setdefault(i,[]).append(j)\n",
    "        outgoing.setdefault(j,[]).append(i)\n",
    "\n",
    "        # Add terms to the objective function. We assume that the conversion rates are given\n",
    "        # by the edge weights.\n",
    "        conversion_rate = data['weight']\n",
    "        # print(numpy.log10(conversion_rate), index, index)\n",
    "        bqm.add_variables_from({index: numpy.log10(conversion_rate)}) # OK?\n",
    "        bqm.add_variables_from({(index, index): numpy.log10(conversion_rate)})# OK?\n",
    "        #bqm.update(bqm.add_variables_from({index: numpy.log10(conversion_rate)},{(index, index): numpy.log10(conversion_rate)}), dimod.SPIN) # KO\n",
    "        #bqm.quadratic.update([index, index,numpy.log10(conversion_rate)])\n",
    "    print(bqm)"
   ]
  },
  {
   "cell_type": "code",
   "execution_count": 50,
   "metadata": {
    "pycharm": {
     "is_executing": false
    }
   },
   "outputs": [
    {
     "name": "stdout",
     "text": [
      "BinaryQuadraticModel({0: -0.04217729502167787, (0, 0): -0.04217729502167787, 1: 2.0172420845476458, (1, 1): 2.0172420845476458, 2: 0.11982313759216133, (2, 2): 0.11982313759216133, 3: 0.82774717744506, (3, 3): 0.82774717744506, 4: 0.04212247599827541, (4, 4): 0.04212247599827541, 5: 2.0593740590659575, (5, 5): 2.0593740590659575, 6: 0.16194567879757768, (6, 6): 0.16194567879757768, 7: 0.8698697810498238, (7, 7): 0.8698697810498238, 8: -2.0172766123314547, (8, 8): -2.0172766123314547, 9: -2.059483515067433, (9, 9): -2.059483515067433, 10: -1.8975662943186637, (10, 10): -1.8975662943186637, 11: -1.1895658440773271, (11, 11): -1.1895658440773271, 12: -0.11990129591668598, (12, 12): -0.11990129591668598, 13: -0.16207713231248566, (13, 13): -0.16207713231248566, 14: 1.8972971220594965, (14, 14): 1.8972971220594965, 15: 0.707848546268371, (15, 15): 0.707848546268371, 16: -0.8278643033504335, (16, 16): -0.8278643033504335, 17: -0.8700524427193329, (17, 17): -0.8700524427193329, 18: 1.1894903136993675, (18, 18): 1.1894903136993675, 19: -0.7080542498299344, (19, 19): -0.7080542498299344}, {}, 0.0, Vartype.SPIN)\n"
     ],
     "output_type": "stream"
    }
   ],
   "source": [
    "M1 = M2 = 10\n",
    "create_arbitrage_qubo1(G, M1, M2)"
   ]
  },
  {
   "cell_type": "code",
   "execution_count": 51,
   "metadata": {
    "pycharm": {
     "is_executing": false
    }
   },
   "outputs": [],
   "source": [
    "# Must rewite slightly\n",
    "def create_arbitrage_qubo1(G, M1, M2):\n",
    "    '''\n",
    "        Create a QUBO for finding optimal arbitrage opportunities in a given graph with given penalty constants.\n",
    "        \n",
    "        Arguments:\n",
    "            G: a directed graph (networkx.DiGraph)\n",
    "            M1: first penalty constant (float, positive)\n",
    "            M2: second penalty constant (float, positive)\n",
    "        \n",
    "        Returns:\n",
    "            A list of three polynomials representing the different terms in the problem, the first\n",
    "                is the objective function, the second is the first penalty term, and the third\n",
    "                is the second penalty term (list of QDK QuadraticBinaryPolynomial)\n",
    "            A mapping from logical variable indices to edges on the graph (dict)\n",
    "            A mapping from edges on the graph to logical variable indices (dict)\n",
    "            A mapping from each graph node to the respective incoming nodes (dict)\n",
    "            A mapping from each graph node to the respective outgoing nodes (dict)\n",
    "    '''\n",
    "\n",
    "    assert M1 > 0 and M2 > 0, 'The penalty constants M1 and M2 must be positive.'\n",
    "\n",
    "    # A builder which we will re-use\n",
    "    # builder = bp.QuadraticBinaryPolynomialBuilder() -- cannot do. We hope for an equivalent\n",
    "    # builder = dimod.BinaryQuadraticModel()\n",
    "\n",
    "    # form:- dimod.BinaryQuadraticModel(linear (dict[variable, bias]), quadratic (dict[(variable, variable), bias])\n",
    "    # offset (number), vartype (Vartype/str/set), **kwargs)\n",
    "    # bqm = dimod.BinaryQuadraticModel({'a': 0.0, 'b': -1.0, 'c': 0.5},\n",
    "    # {('a', 'b'): -1.0, ('b', 'c'): 1.5}, 1.4, dimod.SPIN)\n",
    "    # bqm = dimod.BinaryQuadraticModel({'a': 0.0, 'b': -1.0, 'variable': bias},{('a', 'b'): -1.0,\n",
    "    # (variable, variable): bias}, 0.0, dimod.SPIN)\n",
    "\n",
    "    # Construct the objective function itself, as well as some useful mappings\n",
    "    index_to_edge = {}\n",
    "    edge_to_index = {}\n",
    "    incoming = {}\n",
    "    outgoing = {}\n",
    "    bqm = dimod.BinaryQuadraticModel({}, {}, 0.0, dimod.SPIN)\n",
    "    for index, (i,j, data) in enumerate(G.edges(data=True)):\n",
    "        # Update the index/edge mappings\n",
    "        index_to_edge[index] = (i,j)\n",
    "        edge_to_index[(i,j)] = index\n",
    "\n",
    "        # Update the incoming/outgoing mappings\n",
    "        incoming.setdefault(i,[]).append(j)\n",
    "        outgoing.setdefault(j,[]).append(i)\n",
    "\n",
    "        # Add terms to the objective function. We assume that the conversion rates are given\n",
    "        # by the edge weights.\n",
    "        conversion_rate = data['weight']\n",
    "        \n",
    "        # builder.add_term(numpy.log10(conversion_rate), index, index) <-- from 1.\n",
    "\n",
    "        bqm.add_variables_from({index: numpy.log10(conversion_rate)}) # OK?\n",
    "        bqm.add_variables_from({(index, index): numpy.log10(conversion_rate)})# OK?\n",
    "\n",
    "    print(bqm)\n",
    "    \n",
    "    # Build the objective function\n",
    "    # objective = builder.build_polynomial() <-- from 2.\n",
    "    # I assume that the objective is the populated QUBO\n",
    "    # I also assume that the builder function is a helper function.\n",
    "    # Looking at the API we have:- \n",
    "# ============================\n",
    "    # The first penalty term\n",
    "    # builder.reset()\n",
    "    # penalty1 = builder.build_polynomial()\n",
    "    # for i in G.nodes():\n",
    "    #     # Reset the builder such that the next sum starts from an empty builder\n",
    "    #     builder.reset()\n",
    "    #     for j in outgoing[i]:\n",
    "    #         index = edge_to_index[(i,j)]\n",
    "    #         builder.add_term(1, index, index)\n",
    "    # \n",
    "    #     for j in incoming[i]:\n",
    "    #         index = edge_to_index[(j,i)]\n",
    "    #         builder.add_term(-1, index, index)\n",
    "    # \n",
    "    #     # Square the sum of terms we have so far\n",
    "    #     builder.power(2)\n",
    "    # \n",
    "    #     # Build the polynomial for the new terms and add to the terms from before, in penalty1\n",
    "    #     term = builder.build_polynomial()\n",
    "    #     penalty1.sum(term)\n",
    "    # \n",
    "    # # Multiply by the penalty constant\n",
    "    # penalty1.multiply_by_factor(-M1)\n",
    "    # \n",
    "    # # The second penalty term\n",
    "    # builder.reset()\n",
    "    # for i in G.nodes():\n",
    "    #     for j in outgoing[i]:\n",
    "    #         index = edge_to_index[(i,j)]\n",
    "    #         builder.add_term(-1, index, index)\n",
    "    # \n",
    "    #         for jp in outgoing[i]:\n",
    "    #             indexp = edge_to_index[(i,jp)]\n",
    "    #             builder.add_term(1, index, indexp)\n",
    "    # \n",
    "    # # Build the second penalty term\n",
    "    # penalty2 = builder.build_polynomial()\n",
    "    # \n",
    "    # # Multiply by the penalty constant\n",
    "    # penalty2.multiply_by_factor(-M2)\n",
    "    # \n",
    "    # # Return the polynomials and mappings\n",
    "    # return [objective, penalty1, penalty2], index_to_edge, edge_to_index, incoming, outgoing"
   ]
  },
  {
   "cell_type": "code",
   "execution_count": null,
   "metadata": {
    "pycharm": {
     "is_executing": false
    }
   },
   "outputs": [],
   "source": []
  },
  {
   "cell_type": "code",
   "execution_count": null,
   "metadata": {
    "pycharm": {
     "is_executing": false
    }
   },
   "outputs": [],
   "source": []
  },
  {
   "cell_type": "code",
   "execution_count": null,
   "metadata": {
    "pycharm": {
     "is_executing": false
    }
   },
   "outputs": [],
   "source": []
  },
  {
   "cell_type": "code",
   "execution_count": null,
   "metadata": {
    "pycharm": {
     "is_executing": false
    }
   },
   "outputs": [],
   "source": []
  },
  {
   "cell_type": "code",
   "execution_count": 52,
   "metadata": {
    "pycharm": {
     "is_executing": false
    }
   },
   "outputs": [
    {
     "data": {
      "text/plain": "True"
     },
     "metadata": {},
     "output_type": "execute_result",
     "execution_count": 52
    }
   ],
   "source": [
    "bqm.add_variables_from({'a': .5, 'b': -1.})\n",
    "'b' in bqm\n",
    "#True"
   ]
  },
  {
   "cell_type": "code",
   "execution_count": 53,
   "metadata": {
    "pycharm": {
     "is_executing": false
    }
   },
   "outputs": [
    {
     "data": {
      "text/plain": "-2.0"
     },
     "metadata": {},
     "output_type": "execute_result",
     "execution_count": 53
    }
   ],
   "source": [
    "bqm.add_variables_from({'b': -1., 'c': 2.0})\n",
    "bqm.linear['b']\n",
    "# -2.0"
   ]
  },
  {
   "cell_type": "code",
   "execution_count": 55,
   "metadata": {
    "pycharm": {
     "is_executing": false
    }
   },
   "outputs": [
    {
     "data": {
      "text/plain": "     0    1    a    b    c\n0 -1.0  2.0  0.0  0.0  0.0\n1  0.0  1.0  0.0  0.0  0.0\na  0.0  0.0  1.0  0.0  0.0\nb  0.0  0.0  0.0 -4.0  0.0\nc  0.0  0.0  0.0  0.0  4.0",
      "text/html": "<div>\n<style scoped>\n    .dataframe tbody tr th:only-of-type {\n        vertical-align: middle;\n    }\n\n    .dataframe tbody tr th {\n        vertical-align: top;\n    }\n\n    .dataframe thead th {\n        text-align: right;\n    }\n</style>\n<table border=\"1\" class=\"dataframe\">\n  <thead>\n    <tr style=\"text-align: right;\">\n      <th></th>\n      <th>0</th>\n      <th>1</th>\n      <th>a</th>\n      <th>b</th>\n      <th>c</th>\n    </tr>\n  </thead>\n  <tbody>\n    <tr>\n      <th>0</th>\n      <td>-1.0</td>\n      <td>2.0</td>\n      <td>0.0</td>\n      <td>0.0</td>\n      <td>0.0</td>\n    </tr>\n    <tr>\n      <th>1</th>\n      <td>0.0</td>\n      <td>1.0</td>\n      <td>0.0</td>\n      <td>0.0</td>\n      <td>0.0</td>\n    </tr>\n    <tr>\n      <th>a</th>\n      <td>0.0</td>\n      <td>0.0</td>\n      <td>1.0</td>\n      <td>0.0</td>\n      <td>0.0</td>\n    </tr>\n    <tr>\n      <th>b</th>\n      <td>0.0</td>\n      <td>0.0</td>\n      <td>0.0</td>\n      <td>-4.0</td>\n      <td>0.0</td>\n    </tr>\n    <tr>\n      <th>c</th>\n      <td>0.0</td>\n      <td>0.0</td>\n      <td>0.0</td>\n      <td>0.0</td>\n      <td>4.0</td>\n    </tr>\n  </tbody>\n</table>\n</div>"
     },
     "metadata": {},
     "output_type": "execute_result",
     "execution_count": 55
    }
   ],
   "source": [
    "bqm.to_pandas_dataframe()"
   ]
  },
  {
   "cell_type": "code",
   "execution_count": 56,
   "metadata": {
    "pycharm": {
     "is_executing": false
    }
   },
   "outputs": [],
   "source": [
    "bqm.add_variables_from({0: -0.04217729502167787, 0:-0.04217729502167787})"
   ]
  },
  {
   "cell_type": "code",
   "execution_count": null,
   "metadata": {
    "pycharm": {
     "is_executing": false
    }
   },
   "outputs": [],
   "source": [
    "# Try and replicat this behaviour\n",
    "# from qdk.binary_polynomial import QuadraticBinaryPolynomialBuilder\n",
    "# \n",
    "# # Create a QUBO builder\n",
    "# builder = QuadraticBinaryPolynomialBuilder()\n",
    "# # \n",
    "# # \n",
    "# # # Add terms to the buffer\n",
    "# builder.add_term(1.0, 0, 0)\n",
    "# builder.add_term(2.0, 0, 2)\n",
    "# builder.add_term(3.0, 1, 3)\n",
    "# builder.add_constant_term(-5.0)\n",
    "# # \n",
    "# # # Build the polynomial\n",
    "# quad_poly = builder.build_polynomial()\n",
    "# \n",
    "# bqm.add_variables_from({index: numpy.log10(conversion_rate)})\n",
    "# bqm.add_variables_from({(index, index): numpy.log10(conversion_rate)})\n",
    "\n",
    "bqm = dimod.BinaryQuadraticModel({'a': 0.0, 'b': -1.0, 'c': 0.5},\n",
    "    {('a', 'b'): -1.0, ('b', 'c'): 1.5}, 1.4, dimod.SPIN)\n",
    "\n",
    "constant_term = -5.0\n",
    "\n",
    "# Q = {(0, 0): -1, (1, 1): -1, (0, 1): 2}\n",
    "\n",
    "Q = {(0, 0): 1.0, (0, 2): 2.0, (1, 3): 3.0}\n",
    "\n",
    "bqm = dimod.BinaryQuadraticModel.from_qubo(Q,constant_term)\n",
    "\n",
    "# Try to build the QUBO first\n",
    "\n",
    "bqm.from_qubo()\n",
    "\n",
    "# Print the polynomial: - 5 + x0 + 2 x0 x2 + 3 x1 x3\n",
    "# print quad_poly\n",
    "print(bqm)\n",
    "bqm = bqm.to_qubo()\n",
    "print(bqm)\n",
    "\n",
    "# Print constant term\n",
    "# print quad_poly.constant_term\n",
    "print(bqm.constant_term) # -- KO\n",
    "\n",
    "# Alternatively you can access the constant term using the 0th index\n",
    "# if it is non-zero, if it is zero this will return the first non-zero term\n",
    "# print quad_poly[0]\n",
    "print(bqm.to_json())\n",
    "\n",
    "print(bqm.linear)\n",
    "print(bqm.quadratic)\n",
    "print(bqm.quadratic[(1, 3)])\n",
    "print(bqm.offset)\n",
    "print(bqm.vartype)\n",
    "for k, v in bqm.quadratic:\n",
    "    print(str(k) +\" : \"+ str(v))\n",
    "ising = bqm.to_ising()\n",
    "print(ising)\n",
    "print(ising[1][(1, 3)])\n",
    "\n",
    "# Get the second term of the polynomial\n",
    "term = quad_poly[1]\n",
    "print(bqm[0])\n",
    "\n",
    "# Print the coefficient of the x1 x3 term\n",
    "print (quad_poly.get_coefficient(1, 3))\n",
    "\n",
    "print()\n",
    "\n",
    "# Print the Ising coefficient of the  x1 x3 term\n",
    "print(quad_poly.get_ising_coefficient(1, 3))"
   ]
  },
  {
   "cell_type": "code",
   "execution_count": null,
   "metadata": {
    "pycharm": {
     "is_executing": false
    }
   },
   "outputs": [],
   "source": []
  },
  {
   "cell_type": "code",
   "execution_count": null,
   "metadata": {
    "pycharm": {
     "is_executing": false
    }
   },
   "outputs": [],
   "source": [
    "#In Error\n",
    "import random\n",
    "import itertools\n",
    "\n",
    "import networkx as nx\n",
    "\n",
    "from dwave_qbsolv import QBSolv\n",
    "from dwave.system.samplers import DWaveSampler\n",
    "from dwave.system.composites import FixedEmbeddingComposite\n",
    "import minorminer\n",
    "\n",
    "# define (sub)problem size\n",
    "solver_limit = 3\n",
    "qubo_size = 4\n",
    "\n",
    "# find embedding of subproblem-sized complete graph to the QPU\n",
    "G = nx.complete_graph(solver_limit)\n",
    "system = DWaveSampler()\n",
    "embedding = minorminer.find_embedding(G.edges, system.edgelist)\n",
    "\n",
    "# solve a random problem\n",
    "Q = {t: random.uniform(-1, 1) for t in itertools.product(range(qubo_size), repeat=2)}\n",
    "response = QBSolv().sample_qubo(Q, solver=FixedEmbeddingComposite(system, embedding), solver_limit=solver_limit)\n",
    "print(\"Q=\" + str(Q))\n",
    "print(\"samples=\" + str(list(response.samples())))\n",
    "print(\"energies=\" + str(list(response.data_vectors['energy'])))"
   ]
  },
  {
   "cell_type": "code",
   "execution_count": null,
   "metadata": {
    "pycharm": {
     "is_executing": false
    }
   },
   "outputs": [],
   "source": [
    "\n",
    "from dwave_qbsolv import QBSolv\n",
    "Q = {(0, 0): 1, (1, 1): 1, (0, 1): 1}\n",
    "response = QBSolv().sample_qubo(Q)\n",
    "print(\"samples=\" + str(list(response.samples())))\n",
    "print(\"energies=\" + str(list(response.data_vectors['energy'])))"
   ]
  },
  {
   "cell_type": "code",
   "execution_count": null,
   "metadata": {
    "pycharm": {
     "is_executing": false
    }
   },
   "outputs": [],
   "source": [
    "# In Error\n",
    "import random\n",
    "from dwave.cloud import Client\n",
    "\n",
    "# Connect using the default or environment connection information\n",
    "with Client.from_config() as client:\n",
    "\n",
    "    # Load the default solver\n",
    "    solver = client.get_solver()\n",
    "\n",
    "    # Build a random Ising model to exactly fit the graph the solver supports\n",
    "    linear = {index: random.choice([-1, 1]) for index in solver.nodes}\n",
    "    quad = {key: random.choice([-1, 1]) for key in solver.undirected_edges}\n",
    "\n",
    "    # Send the problem for sampling, include solver-specific parameter 'num_reads'\n",
    "    computation = solver.sample_ising(linear, quad, num_reads=100)\n",
    "\n",
    "    # Print the first sample out of a hundred\n",
    "    print(computation.samples[0])"
   ]
  },
  {
   "cell_type": "code",
   "execution_count": null,
   "metadata": {
    "pycharm": {
     "is_executing": false
    }
   },
   "outputs": [],
   "source": [
    "bqm01 = dimod.BinaryQuadraticModel({0: -1, 1: -1}, {(0, 1): 2}, 0.0, dimod.BINARY)\n",
    "print(bqm01.to_json())\n",
    "bqm01 = bqm01.to_qubo()\n",
    "print(bqm01)"
   ]
  },
  {
   "cell_type": "code",
   "execution_count": null,
   "metadata": {
    "pycharm": {
     "is_executing": false
    }
   },
   "outputs": [],
   "source": [
    "import dimod\n",
    "bqm02 = dimod.BinaryQuadraticModel({}, {}, 0.0, dimod.BINARY)\n",
    "# bqm02.add_variables_from({0: -1, 1: -1})#linear\n",
    "bqm02.add_variables_from({(0, 1): 2})#quadratic\n",
    "print(bqm02.to_json())"
   ]
  },
  {
   "cell_type": "code",
   "execution_count": null,
   "metadata": {
    "pycharm": {
     "is_executing": false
    }
   },
   "outputs": [],
   "source": [
    "import dimod\n",
    "bqm03 = dimod.BinaryQuadraticModel({}, {}, 0.0, dimod.BINARY)\n",
    "# bqm02.add_variables_from({0: -1, 1: -1})#linear\n",
    "# canonical form\n",
    "# model = dimod.BinaryQuadraticModel.from_qubo(Q, offset = 0.0)\n",
    "# NOTE:- no need to create instance before\n",
    "# Seems the way to create model above\n",
    "Q = {(0, 0): -1, (1, 1): -1, (0, 1): 2}\n",
    "model = bqm03.from_qubo(Q)\n",
    "print(model)\n",
    "print(model.to_json())\n",
    "print(model.linear)\n",
    "print(model.quadratic)\n",
    "print(model.vartype)"
   ]
  },
  {
   "cell_type": "code",
   "execution_count": null,
   "metadata": {
    "pycharm": {
     "is_executing": false
    }
   },
   "outputs": [],
   "source": []
  }
 ],
 "metadata": {
  "kernelspec": {
   "name": "python3",
   "language": "python",
   "display_name": "Python 3"
  },
  "language_info": {
   "codemirror_mode": {
    "name": "ipython",
    "version": 2
   },
   "file_extension": ".py",
   "mimetype": "text/x-python",
   "name": "python",
   "nbconvert_exporter": "python",
   "pygments_lexer": "ipython2",
   "version": "2.7.6"
  },
  "pycharm": {
   "stem_cell": {
    "cell_type": "raw",
    "source": [],
    "metadata": {
     "collapsed": false
    }
   }
  }
 },
 "nbformat": 4,
 "nbformat_minor": 0
}
